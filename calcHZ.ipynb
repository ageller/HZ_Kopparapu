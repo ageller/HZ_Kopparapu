{
 "cells": [
  {
   "cell_type": "markdown",
   "metadata": {},
   "source": [
    "# Habitable Zone\n",
    "\n",
    "An implementationof the [Kopparapu et al. (2013)](https://ui.adsabs.harvard.edu/abs/2013ApJ...765..131K/abstract) habitable zone calculation\n",
    "\n",
    "---\n",
    "*Aaron Geller, Dec. 2019*\n"
   ]
  },
  {
   "cell_type": "code",
   "execution_count": 1,
   "metadata": {},
   "outputs": [],
   "source": [
    "import numpy as np\n",
    "import pandas as pd"
   ]
  },
  {
   "cell_type": "code",
   "execution_count": 2,
   "metadata": {},
   "outputs": [],
   "source": [
    "def getHZ(L, T, inC, outC):\n",
    "    #L == luminosity of the star \n",
    "    #T == effective temperature of the star\n",
    "    #inC and outC == the relevant inner and outer coefficients list, from Kopparapu's Table 3\n",
    "    #  these coefficients are supplied in the HZ_coefficients.dat file\"\n",
    "\n",
    "    \n",
    "    Lstar = L #.value_in(units.LSun)\n",
    "    Tstar = T #.value_in(units.K)\n",
    "\n",
    "    #Kopparapu HZ\n",
    "    tst = Tstar - 5780.0\n",
    "    #THIS IS THE LIMIT OF THE Kopparapu results.  Not sure what to do outside of this!\n",
    "    if (Tstar > 7200): \n",
    "        print(\"!!!WARNING: Teff > 7200 K -- outside of Kopparapu model limits -- setting Tstar=7200-5780\")\n",
    "        tst = 7200. - 5780.\n",
    "    if (Tstar < 2600): \n",
    "        print(\"!!!WARNING: Teff < 2600 K -- outside of Kopparapu model limits -- setting Tstar=2600-5780\")\n",
    "        tst = 2600. - 5780.\n",
    "    Seff_inRK = inC[0] + inC[1]*tst + inC[2]*tst**2 + inC[3]*tst**3 + inC[4]*tst**4\n",
    "    Seff_outRK = outC[0] + outC[1]*tst + outC[2]*tst**2 + outC[3]*tst**3 + outC[4]*tst**4\n",
    "    dinRK = np.sqrt(Lstar/Seff_inRK) #| units.AU\n",
    "    doutRK = np.sqrt(Lstar/Seff_outRK) #| units.AU\n",
    "\n",
    "    return dinRK, doutRK"
   ]
  },
  {
   "cell_type": "markdown",
   "metadata": {},
   "source": [
    "### Read in Kopparapu's Table 3 for coefficients\n",
    "\n",
    "In Kopparapu's Table 3 in their 2013 paper = file HZ_coefficients.dat, \n",
    "the coefficients are as follows:\n",
    "\n",
    "The columns, i, are arranged according to the Si HZ limits given in the paper.\n",
    " \n",
    "```\n",
    "i = 1 --> Recent Venus\n",
    "i = 2 --> Runaway Greenhouse\n",
    "i = 3 --> Moist Greenhouse\n",
    "i = 4 --> Maximum Greenhouse\n",
    "i = 5 --> Early Mars\n",
    "```"
   ]
  },
  {
   "cell_type": "code",
   "execution_count": 3,
   "metadata": {},
   "outputs": [
    {
     "data": {
      "text/html": [
       "<div>\n",
       "<style scoped>\n",
       "    .dataframe tbody tr th:only-of-type {\n",
       "        vertical-align: middle;\n",
       "    }\n",
       "\n",
       "    .dataframe tbody tr th {\n",
       "        vertical-align: top;\n",
       "    }\n",
       "\n",
       "    .dataframe thead th {\n",
       "        text-align: right;\n",
       "    }\n",
       "</style>\n",
       "<table border=\"1\" class=\"dataframe\">\n",
       "  <thead>\n",
       "    <tr style=\"text-align: right;\">\n",
       "      <th></th>\n",
       "      <th>S1</th>\n",
       "      <th>S2</th>\n",
       "      <th>S3</th>\n",
       "      <th>S4</th>\n",
       "      <th>S5</th>\n",
       "    </tr>\n",
       "  </thead>\n",
       "  <tbody>\n",
       "    <tr>\n",
       "      <th>0</th>\n",
       "      <td>1.775300e+00</td>\n",
       "      <td>1.051200e+00</td>\n",
       "      <td>1.014000e+00</td>\n",
       "      <td>3.438000e-01</td>\n",
       "      <td>3.179000e-01</td>\n",
       "    </tr>\n",
       "    <tr>\n",
       "      <th>1</th>\n",
       "      <td>1.431600e-04</td>\n",
       "      <td>1.324200e-04</td>\n",
       "      <td>8.177400e-05</td>\n",
       "      <td>5.894200e-05</td>\n",
       "      <td>5.451300e-05</td>\n",
       "    </tr>\n",
       "    <tr>\n",
       "      <th>2</th>\n",
       "      <td>2.987500e-09</td>\n",
       "      <td>1.541800e-08</td>\n",
       "      <td>1.706300e-09</td>\n",
       "      <td>1.655800e-09</td>\n",
       "      <td>1.531300e-09</td>\n",
       "    </tr>\n",
       "    <tr>\n",
       "      <th>3</th>\n",
       "      <td>-7.570200e-12</td>\n",
       "      <td>-7.989500e-12</td>\n",
       "      <td>-4.324100e-12</td>\n",
       "      <td>-3.004500e-12</td>\n",
       "      <td>-2.778600e-12</td>\n",
       "    </tr>\n",
       "    <tr>\n",
       "      <th>4</th>\n",
       "      <td>-1.163500e-15</td>\n",
       "      <td>-1.832800e-15</td>\n",
       "      <td>-6.646200e-16</td>\n",
       "      <td>-5.298300e-16</td>\n",
       "      <td>-4.899700e-16</td>\n",
       "    </tr>\n",
       "  </tbody>\n",
       "</table>\n",
       "</div>"
      ],
      "text/plain": [
       "             S1            S2            S3            S4            S5\n",
       "0  1.775300e+00  1.051200e+00  1.014000e+00  3.438000e-01  3.179000e-01\n",
       "1  1.431600e-04  1.324200e-04  8.177400e-05  5.894200e-05  5.451300e-05\n",
       "2  2.987500e-09  1.541800e-08  1.706300e-09  1.655800e-09  1.531300e-09\n",
       "3 -7.570200e-12 -7.989500e-12 -4.324100e-12 -3.004500e-12 -2.778600e-12\n",
       "4 -1.163500e-15 -1.832800e-15 -6.646200e-16 -5.298300e-16 -4.899700e-16"
      ]
     },
     "execution_count": 3,
     "metadata": {},
     "output_type": "execute_result"
    }
   ],
   "source": [
    "HZdf = pd.read_csv(\"HZ_coefficients.dat\", sep = ' ', skipinitialspace = True, skiprows = 13, \n",
    "              names = ['S1','S2','S3','S4','S5'])\n",
    "HZdf"
   ]
  },
  {
   "cell_type": "markdown",
   "metadata": {},
   "source": [
    "### Test for Earth \n",
    "\n",
    "From Kopparapu's Table 1, the results for the Runaway Greenhouse (S2) and Maximum Greenhouse (S4) should be :\n",
    "\n",
    "```\n",
    "(0.97 AU, 1.70 AU)\n",
    "```"
   ]
  },
  {
   "cell_type": "code",
   "execution_count": 4,
   "metadata": {},
   "outputs": [
    {
     "name": "stdout",
     "output_type": "stream",
     "text": [
      "(0.9753428933010881, 1.7054817003221696)\n"
     ]
    }
   ],
   "source": [
    "print(getHZ(1., 5780., HZdf['S2'], HZdf['S4']))"
   ]
  },
  {
   "cell_type": "code",
   "execution_count": null,
   "metadata": {},
   "outputs": [],
   "source": []
  }
 ],
 "metadata": {
  "kernelspec": {
   "display_name": "Python 3",
   "language": "python",
   "name": "python3"
  },
  "language_info": {
   "codemirror_mode": {
    "name": "ipython",
    "version": 3
   },
   "file_extension": ".py",
   "mimetype": "text/x-python",
   "name": "python",
   "nbconvert_exporter": "python",
   "pygments_lexer": "ipython3",
   "version": "3.7.3"
  }
 },
 "nbformat": 4,
 "nbformat_minor": 2
}
